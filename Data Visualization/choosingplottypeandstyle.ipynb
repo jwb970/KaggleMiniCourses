{
 "cells": [
  {
   "cell_type": "markdown",
   "metadata": {},
   "source": [
    "https://www.kaggle.com/alexisbcook/choosing-plot-types-and-custom-styles\n",
    "\n",
    "In this micro-course, you've learned how to create many different chart types. Now, you'll organize your knowledge, before learning some quick commands that you can use to change the style of your charts.\n",
    "\n",
    "What have you learned?\n",
    "\n",
    "\n",
    "Since it's not always easy to decide how to best tell the story behind your data, we've broken the chart types into three broad categories to help with this.\n",
    "\n",
    "Trends - A trend is defined as a pattern of change.\n",
    "sns.lineplot - Line charts are best to show trends over a period of time, and multiple lines can be used to show trends in more than one group.\n",
    "Relationship - There are many different chart types that you can use to understand relationships between variables in your data.\n",
    "sns.barplot - Bar charts are useful for comparing quantities corresponding to different groups.\n",
    "sns.heatmap - Heatmaps can be used to find color-coded patterns in tables of numbers.\n",
    "sns.scatterplot - Scatter plots show the relationship between two continuous variables; if color-coded, we can also show the relationship with a third categorical variable.\n",
    "sns.regplot - Including a regression line in the scatter plot makes it easier to see any linear relationship between two variables.\n",
    "sns.lmplot - This command is useful for drawing multiple regression lines, if the scatter plot contains multiple, color-coded groups.\n",
    "sns.swarmplot - Categorical scatter plots show the relationship between a continuous variable and a categorical variable.\n",
    "Distribution - We visualize distributions to show the possible values that we can expect to see in a variable, along with how likely they are.\n",
    "sns.distplot - Histograms show the distribution of a single numerical variable.\n",
    "sns.kdeplot - KDE plots (or 2D KDE plots) show an estimated, smooth distribution of a single numerical variable (or two numerical variables).\n",
    "sns.jointplot - This command is useful for simultaneously displaying a 2D KDE plot with the corresponding KDE plots for each individual variable.\n",
    "Changing styles with seaborn\n",
    "All of the commands have provided a nice, default style to each of the plots. However, you may find it useful to customize how your plots look, and thankfully, this can be accomplished by just adding one more line of code!\n",
    "\n",
    "As always, we need to begin by setting up the coding environment. (This code is hidden, but you can un-hide it by clicking on the \"Code\" button immediately below this text, on the right.)\n",
    "\n",
    "We'll work with the same code that we used to create a line chart in a previous tutorial. The code below loads the dataset and creates the chart.\n",
    "\n",
    "# Path of the file to read\n",
    "spotify_filepath = \"../input/spotify.csv\"\n",
    "\n",
    "# Read the file into a variable spotify_data\n",
    "spotify_data = pd.read_csv(spotify_filepath, index_col=\"Date\", parse_dates=True)\n",
    "\n",
    "# Line chart \n",
    "plt.figure(figsize=(12,6))\n",
    "sns.lineplot(data=spotify_data)\n",
    "<matplotlib.axes._subplots.AxesSubplot at 0x7f303783eef0>\n",
    "\n",
    "We can quickly change the style of the figure to a different theme with only a single line of code.\n",
    "\n",
    "# Change the style of the figure to the \"dark\" theme\n",
    "sns.set_style(\"dark\")\n",
    "\n",
    "# Line chart \n",
    "plt.figure(figsize=(12,6))\n",
    "sns.lineplot(data=spotify_data)\n",
    "<matplotlib.axes._subplots.AxesSubplot at 0x7f30451e2c88>\n",
    "\n",
    "Seaborn has five different themes: (1)\"darkgrid\", (2)\"whitegrid\", (3)\"dark\", (4)\"white\", and (5)\"ticks\", and you need only use a command similar to the one in the code cell above (with the chosen theme filled in) to change it.\n",
    "\n",
    "In the upcoming exercise, you'll experiment with these themes to see which one you like most!"
   ]
  },
  {
   "cell_type": "code",
   "execution_count": null,
   "metadata": {},
   "outputs": [],
   "source": []
  }
 ],
 "metadata": {
  "kernelspec": {
   "display_name": "Python 3",
   "language": "python",
   "name": "python3"
  },
  "language_info": {
   "codemirror_mode": {
    "name": "ipython",
    "version": 3
   },
   "file_extension": ".py",
   "mimetype": "text/x-python",
   "name": "python",
   "nbconvert_exporter": "python",
   "pygments_lexer": "ipython3",
   "version": "3.7.6"
  }
 },
 "nbformat": 4,
 "nbformat_minor": 4
}
