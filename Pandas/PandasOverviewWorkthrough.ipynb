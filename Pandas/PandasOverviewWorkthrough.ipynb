{
 "cells": [
  {
   "cell_type": "markdown",
   "metadata": {},
   "source": [
    "- ONE\n",
    "\n",
    "Creating data\n",
    "\n",
    "There are two core objects in pandas: the DataFrame and the Series."
   ]
  },
  {
   "cell_type": "markdown",
   "metadata": {},
   "source": [
    "DataFrame\n",
    "\n",
    "A DataFrame is a table. It contains an array of individual entries, each of which has a certain value. Each entry corresponds to a row (or record) and a column."
   ]
  },
  {
   "cell_type": "code",
   "execution_count": 1,
   "metadata": {},
   "outputs": [],
   "source": [
    "import pandas as pd"
   ]
  },
  {
   "cell_type": "code",
   "execution_count": 2,
   "metadata": {},
   "outputs": [
    {
     "data": {
      "text/html": [
       "<div>\n",
       "<style scoped>\n",
       "    .dataframe tbody tr th:only-of-type {\n",
       "        vertical-align: middle;\n",
       "    }\n",
       "\n",
       "    .dataframe tbody tr th {\n",
       "        vertical-align: top;\n",
       "    }\n",
       "\n",
       "    .dataframe thead th {\n",
       "        text-align: right;\n",
       "    }\n",
       "</style>\n",
       "<table border=\"1\" class=\"dataframe\">\n",
       "  <thead>\n",
       "    <tr style=\"text-align: right;\">\n",
       "      <th></th>\n",
       "      <th>Yes</th>\n",
       "      <th>No</th>\n",
       "    </tr>\n",
       "  </thead>\n",
       "  <tbody>\n",
       "    <tr>\n",
       "      <th>0</th>\n",
       "      <td>50</td>\n",
       "      <td>131</td>\n",
       "    </tr>\n",
       "    <tr>\n",
       "      <th>1</th>\n",
       "      <td>21</td>\n",
       "      <td>2</td>\n",
       "    </tr>\n",
       "  </tbody>\n",
       "</table>\n",
       "</div>"
      ],
      "text/plain": [
       "   Yes   No\n",
       "0   50  131\n",
       "1   21    2"
      ]
     },
     "execution_count": 2,
     "metadata": {},
     "output_type": "execute_result"
    }
   ],
   "source": [
    "pd.DataFrame({'Yes': [50, 21], 'No': [131, 2]})"
   ]
  },
  {
   "cell_type": "code",
   "execution_count": 3,
   "metadata": {},
   "outputs": [
    {
     "data": {
      "text/html": [
       "<div>\n",
       "<style scoped>\n",
       "    .dataframe tbody tr th:only-of-type {\n",
       "        vertical-align: middle;\n",
       "    }\n",
       "\n",
       "    .dataframe tbody tr th {\n",
       "        vertical-align: top;\n",
       "    }\n",
       "\n",
       "    .dataframe thead th {\n",
       "        text-align: right;\n",
       "    }\n",
       "</style>\n",
       "<table border=\"1\" class=\"dataframe\">\n",
       "  <thead>\n",
       "    <tr style=\"text-align: right;\">\n",
       "      <th></th>\n",
       "      <th>Bob</th>\n",
       "      <th>Sue</th>\n",
       "    </tr>\n",
       "  </thead>\n",
       "  <tbody>\n",
       "    <tr>\n",
       "      <th>0</th>\n",
       "      <td>I liked it.</td>\n",
       "      <td>Pretty good.</td>\n",
       "    </tr>\n",
       "    <tr>\n",
       "      <th>1</th>\n",
       "      <td>It was awful.</td>\n",
       "      <td>Bland.</td>\n",
       "    </tr>\n",
       "  </tbody>\n",
       "</table>\n",
       "</div>"
      ],
      "text/plain": [
       "             Bob           Sue\n",
       "0    I liked it.  Pretty good.\n",
       "1  It was awful.        Bland."
      ]
     },
     "execution_count": 3,
     "metadata": {},
     "output_type": "execute_result"
    }
   ],
   "source": [
    "pd.DataFrame({'Bob': ['I liked it.', 'It was awful.'], 'Sue': ['Pretty good.', 'Bland.']})"
   ]
  },
  {
   "cell_type": "markdown",
   "metadata": {},
   "source": [
    "We are using the pd.DataFrame() constructor to generate these DataFrame objects. The syntax for declaring a new one is a dictionary whose keys are the column names (Bob and Sue in this example), and whose values are a list of entries. This is the standard way of constructing a new DataFrame, and the one you are most likely to encounter.\n",
    "\n",
    "The dictionary-list constructor assigns values to the column labels, but just uses an ascending count from 0 (0, 1, 2, 3, ...) for the row labels. Sometimes this is OK, but oftentimes we will want to assign these labels ourselves.\n",
    "\n",
    "The list of row labels used in a DataFrame is known as an Index. We can assign values to it by using an index parameter in our constructor:"
   ]
  },
  {
   "cell_type": "code",
   "execution_count": 4,
   "metadata": {},
   "outputs": [
    {
     "data": {
      "text/html": [
       "<div>\n",
       "<style scoped>\n",
       "    .dataframe tbody tr th:only-of-type {\n",
       "        vertical-align: middle;\n",
       "    }\n",
       "\n",
       "    .dataframe tbody tr th {\n",
       "        vertical-align: top;\n",
       "    }\n",
       "\n",
       "    .dataframe thead th {\n",
       "        text-align: right;\n",
       "    }\n",
       "</style>\n",
       "<table border=\"1\" class=\"dataframe\">\n",
       "  <thead>\n",
       "    <tr style=\"text-align: right;\">\n",
       "      <th></th>\n",
       "      <th>Bob</th>\n",
       "      <th>Sue</th>\n",
       "    </tr>\n",
       "  </thead>\n",
       "  <tbody>\n",
       "    <tr>\n",
       "      <th>Product A</th>\n",
       "      <td>I liked it.</td>\n",
       "      <td>Pretty good.</td>\n",
       "    </tr>\n",
       "    <tr>\n",
       "      <th>Product B</th>\n",
       "      <td>It was awful.</td>\n",
       "      <td>Bland.</td>\n",
       "    </tr>\n",
       "  </tbody>\n",
       "</table>\n",
       "</div>"
      ],
      "text/plain": [
       "                     Bob           Sue\n",
       "Product A    I liked it.  Pretty good.\n",
       "Product B  It was awful.        Bland."
      ]
     },
     "execution_count": 4,
     "metadata": {},
     "output_type": "execute_result"
    }
   ],
   "source": [
    "\n",
    "pd.DataFrame({'Bob': ['I liked it.', 'It was awful.'], \n",
    "              'Sue': ['Pretty good.', 'Bland.']},\n",
    "             index=['Product A', 'Product B'])"
   ]
  },
  {
   "cell_type": "markdown",
   "metadata": {},
   "source": [
    "Series\n",
    "\n",
    "A Series, by contrast, is a sequence of data values. If a DataFrame is a table, a Series is a list. And in fact you can create one with nothing more than a list:"
   ]
  },
  {
   "cell_type": "code",
   "execution_count": 5,
   "metadata": {},
   "outputs": [
    {
     "data": {
      "text/plain": [
       "0    1\n",
       "1    2\n",
       "2    3\n",
       "3    4\n",
       "4    5\n",
       "dtype: int64"
      ]
     },
     "execution_count": 5,
     "metadata": {},
     "output_type": "execute_result"
    }
   ],
   "source": [
    "pd.Series([1, 2, 3, 4, 5])"
   ]
  },
  {
   "cell_type": "markdown",
   "metadata": {},
   "source": [
    "A Series is, in essence, a single column of a DataFrame. So you can assign column values to the Series the same way as before, using an index parameter. However, a Series does not have a column name, it only has one overall name:"
   ]
  },
  {
   "cell_type": "code",
   "execution_count": 6,
   "metadata": {},
   "outputs": [
    {
     "data": {
      "text/plain": [
       "2015 Sales    30\n",
       "2016 Sales    35\n",
       "2017 Sales    40\n",
       "Name: Product A, dtype: int64"
      ]
     },
     "execution_count": 6,
     "metadata": {},
     "output_type": "execute_result"
    }
   ],
   "source": [
    "pd.Series([30, 35, 40], index=['2015 Sales', '2016 Sales', '2017 Sales'], name='Product A')"
   ]
  },
  {
   "cell_type": "markdown",
   "metadata": {},
   "source": [
    "The Series and the DataFrame are intimately related. It's helpful to think of a DataFrame as actually being just a bunch of Series \"glued together\". We'll see more of this in the next section of this tutorial."
   ]
  },
  {
   "cell_type": "markdown",
   "metadata": {},
   "source": [
    "Reading data files\n",
    "\n",
    "\n",
    "Being able to create a DataFrame or Series by hand is handy. But, most of the time, we won't actually be creating our own data by hand. Instead, we'll be working with data that already exists.\n",
    "\n",
    "Data can be stored in any of a number of different forms and formats. By far the most basic of these is the humble CSV file. When you open a CSV file you get something that looks like this:"
   ]
  },
  {
   "cell_type": "markdown",
   "metadata": {},
   "source": [
    "So a CSV file is a table of values separated by commas. Hence the name: \"Comma-Separated Values\", or CSV.\n",
    "\n",
    "Let's now set aside our toy datasets and see what a real dataset looks like when we read it into a DataFrame. We'll use the pd.read_csv() function to read the data into a DataFrame. This goes thusly:"
   ]
  },
  {
   "cell_type": "markdown",
   "metadata": {},
   "source": [
    "wine_reviews = pd.read_csv(\"../input/wine-reviews/winemag-data-130k-v2.csv\")"
   ]
  },
  {
   "cell_type": "markdown",
   "metadata": {},
   "source": [
    "We can use the shape attribute to check how large the resulting DataFrame is:\n",
    "\n",
    "wine_reviews.shape"
   ]
  },
  {
   "cell_type": "markdown",
   "metadata": {},
   "source": [
    "So our new DataFrame has 130,000 records split across 14 different columns. That's almost 2 million entries!\n",
    "\n",
    "We can examine the contents of the resultant DataFrame using the head() command, which grabs the first five rows:"
   ]
  },
  {
   "cell_type": "code",
   "execution_count": 8,
   "metadata": {},
   "outputs": [
    {
     "ename": "NameError",
     "evalue": "name 'wine_reviews' is not defined",
     "output_type": "error",
     "traceback": [
      "\u001b[1;31m---------------------------------------------------------------------------\u001b[0m",
      "\u001b[1;31mNameError\u001b[0m                                 Traceback (most recent call last)",
      "\u001b[1;32m<ipython-input-8-b677e8f2129a>\u001b[0m in \u001b[0;36m<module>\u001b[1;34m\u001b[0m\n\u001b[1;32m----> 1\u001b[1;33m \u001b[0mwine_reviews\u001b[0m\u001b[1;33m.\u001b[0m\u001b[0mhead\u001b[0m\u001b[1;33m(\u001b[0m\u001b[1;33m)\u001b[0m\u001b[1;33m\u001b[0m\u001b[1;33m\u001b[0m\u001b[0m\n\u001b[0m",
      "\u001b[1;31mNameError\u001b[0m: name 'wine_reviews' is not defined"
     ]
    }
   ],
   "source": [
    "wine_reviews.head()"
   ]
  },
  {
   "cell_type": "markdown",
   "metadata": {},
   "source": [
    "The pd.read_csv() function is well-endowed, with over 30 optional parameters you can specify. For example, you can see in this dataset that the CSV file has a built-in index, which pandas did not pick up on automatically. To make pandas use that column for the index (instead of creating a new one from scratch), we can specify an index_col."
   ]
  },
  {
   "cell_type": "markdown",
   "metadata": {},
   "source": [
    "wine_reviews = pd.read_csv(\"../input/wine-reviews/winemag-data-130k-v2.csv\", index_col=0)\n",
    "wine_reviews.head()"
   ]
  },
  {
   "cell_type": "code",
   "execution_count": 9,
   "metadata": {},
   "outputs": [
    {
     "data": {
      "text/html": [
       "<div>\n",
       "<style scoped>\n",
       "    .dataframe tbody tr th:only-of-type {\n",
       "        vertical-align: middle;\n",
       "    }\n",
       "\n",
       "    .dataframe tbody tr th {\n",
       "        vertical-align: top;\n",
       "    }\n",
       "\n",
       "    .dataframe thead th {\n",
       "        text-align: right;\n",
       "    }\n",
       "</style>\n",
       "<table border=\"1\" class=\"dataframe\">\n",
       "  <thead>\n",
       "    <tr style=\"text-align: right;\">\n",
       "      <th></th>\n",
       "      <th>Cows</th>\n",
       "      <th>Goats</th>\n",
       "    </tr>\n",
       "  </thead>\n",
       "  <tbody>\n",
       "    <tr>\n",
       "      <th>Year 1</th>\n",
       "      <td>12</td>\n",
       "      <td>22</td>\n",
       "    </tr>\n",
       "    <tr>\n",
       "      <th>Year 2</th>\n",
       "      <td>20</td>\n",
       "      <td>19</td>\n",
       "    </tr>\n",
       "  </tbody>\n",
       "</table>\n",
       "</div>"
      ],
      "text/plain": [
       "        Cows  Goats\n",
       "Year 1    12     22\n",
       "Year 2    20     19"
      ]
     },
     "execution_count": 9,
     "metadata": {},
     "output_type": "execute_result"
    }
   ],
   "source": [
    "animals = pd.DataFrame({'Cows': [12, 20], 'Goats': [22, 19]}, index=['Year 1', 'Year 2'])\n",
    "animals"
   ]
  },
  {
   "cell_type": "markdown",
   "metadata": {},
   "source": [
    "In the cell below, write code to save this DataFrame to disk as a csv file with the name cows_and_goats.csv."
   ]
  },
  {
   "cell_type": "code",
   "execution_count": 10,
   "metadata": {},
   "outputs": [],
   "source": [
    "animals.to_csv('cows_and_goats.csv')"
   ]
  },
  {
   "cell_type": "markdown",
   "metadata": {},
   "source": [
    "- TWO indexing-selecting-assigning\n",
    "\n",
    "Introduction\n",
    "Selecting specific values of a pandas DataFrame or Series to work on is an implicit step in almost any data operation you'll run, so one of the first things you need to learn in working with data in Python is how to go about selecting the data points relevant to you quickly and effectively.\n",
    "\n",
    "Native accessors\n",
    "Native Python objects provide good ways of indexing data. Pandas carries all of these over, which helps make it easy to start with.\n",
    "\n",
    "Consider this DataFrame: >>>  129971 rows × 13 columns\n",
    "\n",
    "In Python, we can access the property of an object by accessing it as an attribute. A book object, for example, might have a title property, which we can access by calling book.title. Columns in a pandas DataFrame work in much the same way.\n",
    "\n",
    "Hence to access the country property of reviews we can use:\n",
    "reviews.country\n",
    "\n",
    "If we have a Python dictionary, we can access its values using the indexing ([]) operator. We can do the same with columns in a DataFrame:\n",
    "\n",
    "reviews['country']\n",
    "\n",
    "These are the two ways of selecting a specific Series out of a DataFrame. Neither of them is more or less syntactically valid than the other, but the indexing operator [] does have the advantage that it can handle column names with reserved characters in them (e.g. if we had a country providence column, reviews.country providence wouldn't work).\n",
    "\n",
    "Doesn't a pandas Series look kind of like a fancy dictionary? It pretty much is, so it's no surprise that, to drill down to a single specific value, we need only use the indexing operator [] once more:\n",
    "\n",
    "reviews['country'][0]\n",
    "\n",
    "Indexing in pandas\n",
    "The indexing operator and attribute selection are nice because they work just like they do in the rest of the Python ecosystem. As a novice, this makes them easy to pick up and use. However, pandas has its own accessor operators, loc and iloc. For more advanced operations, these are the ones you're supposed to be using.\n",
    "\n",
    "Index-based selection\n",
    "Pandas indexing works in one of two paradigms. The first is index-based selection: selecting data based on its numerical position in the data. iloc follows this paradigm.\n",
    "\n",
    "To select the first row of data in a DataFrame, we may use the following:\n",
    "\n",
    "reviews.iloc[0]\n",
    "\n",
    "Both loc and iloc are row-first, column-second. This is the opposite of what we do in native Python, which is column-first, row-second.\n",
    "\n",
    "This means that it's marginally easier to retrieve rows, and marginally harder to get retrieve columns. To get a column with iloc, we can do the following:\n",
    "\n",
    "reviews.iloc[:, 0]\n",
    "\n",
    "\n",
    "On its own, the : operator, which also comes from native Python, means \"everything\". When combined with other selectors, however, it can be used to indicate a range of values. For example, to select the country column from just the first, second, and third row, we would do:\n",
    "\n",
    "reviews.iloc[:3, 0]\n",
    "\n",
    "Or, to select just the second and third entries, we would do:\n",
    "\n",
    "reviews.iloc[1:3, 0]\n",
    "\n",
    "Aslo possible to pass a list:\n",
    "\n",
    "reviews.iloc[[0, 1, 2], 0]\n",
    "\n",
    "Finally, it's worth knowing that negative numbers can be used in selection. This will start counting forwards from the end of the values. So for example here are the last five elements of the dataset.\n",
    "\n",
    "reviews.iloc[-5:]\n",
    "\n",
    "Label-based selection\n",
    "The second paradigm for attribute selection is the one followed by the loc operator: label-based selection. In this paradigm, it's the data index value, not its position, which matters.\n",
    "\n",
    "For example, to get the first entry in reviews, we would now do the following:\n",
    "\n",
    "reviews.loc[0, 'country'] >>>>>>> returns Italy\n",
    "\n",
    "iloc is conceptually simpler than loc because it ignores the dataset's indices. When we use iloc we treat the dataset like a big matrix (a list of lists), one that we have to index into by position. loc, by contrast, uses the information in the indices to do its work. Since your dataset usually has meaningful indices, it's usually easier to do things using loc instead. For example, here's one operation that's much easier using loc:\n",
    "\n",
    "reviews.loc[:, ['taster_name', 'taster_twitter_handle', 'points']]\n",
    "\n",
    "Choosing between loc and iloc\n",
    "When choosing or transitioning between loc and iloc, there is one \"gotcha\" worth keeping in mind, which is that the two methods use slightly different indexing schemes.\n",
    "\n",
    "iloc uses the Python stdlib indexing scheme, where the first element of the range is included and the last one excluded. So 0:10 will select entries 0,...,9. loc, meanwhile, indexes inclusively. So 0:10 will select entries 0,...,10.\n",
    "\n",
    "Why the change? Remember that loc can index any stdlib type: strings, for example. If we have a DataFrame with index values Apples, ..., Potatoes, ..., and we want to select \"all the alphabetical fruit choices between Apples and Potatoes\", then it's a lot more convenient to index df.loc['Apples':'Potatoes'] than it is to index something like df.loc['Apples', 'Potatoet] (t coming after s in the alphabet).\n",
    "\n",
    "This is particularly confusing when the DataFrame index is a simple numerical list, e.g. 0,...,1000. In this case df.iloc[0:1000] will return 1000 entries, while df.loc[0:1000] return 1001 of them! To get 1000 elements using loc, you will need to go one lower and ask for df.loc[0:999].\n",
    "\n",
    "Otherwise, the semantics of using loc are the same as those for iloc.\n",
    "\n"
   ]
  },
  {
   "cell_type": "markdown",
   "metadata": {},
   "source": [
    "Manipulating the index\n",
    "\n",
    "Label-based selection derives its power from the labels in the index. Critically, the index we use is not immutable. We can manipulate the index in any way we see fit.\n",
    "\n",
    "The set_index() method can be used to do the job. Here is what happens when we set_index to the title field:\n",
    "\n",
    "reviews.set_index(\"title\") >>>>>>  This is useful if you can come up with an index for the dataset which is better than the current one.\n",
    "\n",
    "Conditional selection\n",
    "So far we've been indexing various strides of data, using structural properties of the DataFrame itself. To do interesting things with the data, however, we often need to ask questions based on conditions.\n",
    "\n",
    "For example, suppose that we're interested specifically in better-than-average wines produced in Italy.\n",
    "\n",
    "We can start by checking if each wine is Italian or not:\n",
    "\n",
    "reviews.country == 'Italy'\n",
    "\n",
    "This operation produced a Series of True/False booleans based on the country of each record. This result can then be used inside of loc to select the relevant data:\n",
    "\n",
    "reviews.loc[reviews.country == 'Italy']\n",
    "\n",
    "This DataFrame has ~20,000 rows. The original had ~130,000. That means that around 15% of wines originate from Italy.\n",
    "\n",
    "We also wanted to know which ones are better than average. Wines are reviewed on a 80-to-100 point scale, so this could mean wines that accrued at least 90 points.\n",
    "\n",
    "We can use the ampersand (&) to bring the two questions together:\n",
    "\n",
    "reviews.loc[(reviews.country == 'Italy') & (reviews.points >= 90)]\n",
    "\n",
    "Suppose we'll buy any wine that's made in Italy or which is rated above average. For this we use a pipe (|):\n",
    "\n",
    "reviews.loc[(reviews.country == 'Italy') | (reviews.points >= 90)]\n",
    "\n",
    "Pandas comes with a few built-in conditional selectors, two of which we will highlight here.\n",
    "\n",
    "The first is isin. isin is lets you select data whose value \"is in\" a list of values. For example, here's how we can use it to select wines only from Italy or France:\n",
    "\n",
    "reviews.loc[reviews.country.isin(['Italy', 'France'])]\n",
    "\n",
    "The second is isnull (and its companion notnull). These methods let you highlight values which are (or are not) empty (NaN). For example, to filter out wines lacking a price tag in the dataset, here's what we would do:\n",
    "\n",
    "\n",
    "reviews.loc[reviews.price.notnull()]\n"
   ]
  },
  {
   "cell_type": "markdown",
   "metadata": {},
   "source": [
    "Assigning data\n",
    "\n",
    "\n",
    "Going the other way, assigning data to a DataFrame is easy. You can assign either a constant value:\n",
    "\n",
    "reviews['critic'] = 'everyone'\n",
    "reviews['critic']\n",
    "\n",
    "Or with an iterable of values:\n",
    "\n",
    "reviews['index_backwards'] = range(len(reviews), 0, -1)\n",
    "reviews['index_backwards']"
   ]
  },
  {
   "cell_type": "markdown",
   "metadata": {},
   "source": [
    "- THREE: summary-functions-and-maps\n",
    "\n",
    "Summary functions\n",
    "Pandas provides many simple \"summary functions\" (not an official name) which restructure the data in some useful way. For example, consider the describe() method:\n",
    "\n",
    "reviews.points.describe()\n",
    "\n",
    "This method generates a high-level summary of the attributes of the given column. It is type-aware, meaning that its output changes based on the data type of the input. The output above only makes sense for numerical data; for string data here's what we get:\n",
    "\n",
    "reviews.taster_name.describe()\n",
    "\n",
    "If you want to get some particular simple summary statistic about a column in a DataFrame or a Series, there is usually a helpful pandas function that makes it happen.\n",
    "\n",
    "For example, to see the mean of the points allotted (e.g. how well an averagely rated wine does), we can use the mean() function:\n",
    "\n",
    "reviews.points.mean()\n",
    "\n",
    "To see a list of unique values we can use the unique() function:\n",
    "\n",
    "reviews.taster_name.unique()\n",
    "\n",
    "To see a list of unique values and how often they occur in the dataset, we can use the value_counts() method:\n",
    "\n",
    "reviews.taster_name.value_counts()\n",
    "\n",
    "Maps\n",
    "A map is a term, borrowed from mathematics, for a function that takes one set of values and \"maps\" them to another set of values. In data science we often have a need for creating new representations from existing data, or for transforming data from the format it is in now to the format that we want it to be in later. Maps are what handle this work, making them extremely important for getting your work done!\n",
    "\n",
    "There are two mapping methods that you will use often.\n",
    "\n",
    "map() is the first, and slightly simpler one. For example, suppose that we wanted to remean the scores the wines received to 0. We can do this as follows:\n",
    "\n",
    "review_points_mean = reviews.points.mean()\n",
    "\n",
    "reviews.points.map(lambda p: p - review_points_mean)\n",
    "\n",
    "The function you pass to map() should expect a single value from the Series (a point value, in the above example), and return a transformed version of that value. map() returns a new Series where all the values have been transformed by your function.\n",
    "\n",
    "apply() is the equivalent method if we want to transform a whole DataFrame by calling a custom method on each row.\n",
    "\n",
    "\n",
    "def remean_points(row):\n",
    "    row.points = row.points - review_points_mean\n",
    "    return row\n",
    "\n",
    "reviews.apply(remean_points, axis='columns')\n",
    "\n",
    "\n",
    "????\n",
    "\n",
    "If we had called reviews.apply() with axis='index', then instead of passing a function to transform each row, we would need to give a function to transform each column.\n",
    "\n",
    "Note that map() and apply() return new, transformed Series and DataFrames, respectively. They don't modify the original data they're called on. If we look at the first row of reviews, we can see that it still has its original points value.\n",
    "\n",
    "Pandas provides many common mapping operations as built-ins. For example, here's a faster way of remeaning our points column:\n",
    "\n",
    "review_points_mean = reviews.points.mean()\n",
    "reviews.points - review_points_mean\n",
    "\n",
    "In this code we are performing an operation between a lot of values on the left-hand side (everything in the Series) and a single value on the right-hand side (the mean value). Pandas looks at this expression and figures out that we must mean to subtract that mean value from every value in the dataset.\n",
    "\n",
    "Pandas will also understand what to do if we perform these operations between Series of equal length. For example, an easy way of combining country and region information in the dataset would be to do the following:\n",
    "\n",
    "reviews.country + \" - \" + reviews.region_1\n",
    "\n",
    "These operators are faster than map() or apply() because they uses speed ups built into pandas. All of the standard Python operators (>, <, ==, and so on) work in this manner.\n",
    "\n",
    "However, they are not as flexible as map() or apply(), which can do more advanced things, like applying conditional logic, which cannot be done with addition and subtraction alone.\n"
   ]
  },
  {
   "cell_type": "markdown",
   "metadata": {},
   "source": [
    "- FOUR: grouping-and-sorting\n",
    "\n",
    "Maps allow us to transform data in a DataFrame or Series one value at a time for an entire column. However, often we want to group our data, and then do something specific to the group the data is in.\n",
    "\n",
    "As you'll learn, we do this with the groupby() operation. We'll also cover some additional topics, such as more complex ways to index your DataFrames, along with how to sort your data.\n",
    "\n",
    "Groupwise analysis\n",
    "\n",
    "One function we've been using heavily thus far is the value_counts() function. We can replicate what value_counts() does by doing the following:\n",
    "\n",
    "reviews.groupby('points').points.count()\n",
    "\n",
    "groupby() created a group of reviews which allotted the same point values to the given wines. Then, for each of these groups, we grabbed the points() column and counted how many times it appeared. value_counts() is just a shortcut to this groupby() operation.\n",
    "\n",
    "We can use any of the summary functions we've used before with this data. For example, to get the cheapest wine in each point value category, we can do the following:\n",
    "\n",
    "reviews.groupby('points').price.min()\n",
    "\n",
    "You can think of each group we generate as being a slice of our DataFrame containing only data with values that match. This DataFrame is accessible to us directly using the apply() method, and we can then manipulate the data in any way we see fit. For example, here's one way of selecting the name of the first wine reviewed from each winery in the dataset:\n",
    "\n",
    "reviews.groupby('winery').apply(lambda df: df.title.iloc[0])\n",
    "\n",
    "For even more fine-grained control, you can also group by more than one column. For an example, here's how we would pick out the best wine by country and province:\n",
    "\n",
    "*** - very smart!\n",
    "\n",
    "reviews.groupby(['country', 'province']).apply(lambda df: df.loc[df.points.idxmax()])\n",
    "\n",
    "Another groupby() method worth mentioning is agg(), which lets you run a bunch of different functions on your DataFrame simultaneously. For example, we can generate a simple statistical summary of the dataset as follows:\n",
    "\n",
    "reviews.groupby(['country']).price.agg([len, min, max])\n",
    "\n",
    "Multi-indexes\n",
    "\n",
    "In all of the examples we've seen thus far we've been working with DataFrame or Series objects with a single-label index. groupby() is slightly different in the fact that, depending on the operation we run, it will sometimes result in what is called a multi-index.\n",
    "\n",
    "A multi-index differs from a regular index in that it has multiple levels. For example:\n",
    "\n",
    "countries_reviewed = reviews.groupby(['country', 'province']).description.agg([len])\n",
    "countries_reviewed\n",
    "\n",
    ">>>>  425 rows × 1 columns\n",
    "\n",
    "mi = countries_reviewed.index\n",
    "type(mi)\n",
    "\n",
    ">>>>> pandas.core.indexes.multi.MultiIndex\n",
    "\n",
    "Multi-indices have several methods for dealing with their tiered structure which are absent for single-level indices. They also require two levels of labels to retrieve a value. Dealing with multi-index output is a common \"gotcha\" for users new to pandas.\n",
    "\n",
    "The use cases for a multi-index are detailed alongside instructions on using them in the MultiIndex / Advanced Selection section of the pandas documentation.\n",
    "\n",
    "However, in general the multi-index method you will use most often is the one for converting back to a regular index, the reset_index() method:\n",
    "\n",
    "countries_reviewed.reset_index()\n",
    "\n",
    ">>>> 425 rows × 3 columns\n",
    "\n",
    "Sorting\n",
    "\n",
    "Looking again at countries_reviewed we can see that grouping returns data in index order, not in value order. That is to say, when outputting the result of a groupby, the order of the rows is dependent on the values in the index, not in the data.\n",
    "\n",
    "To get data in the order want it in we can sort it ourselves. The sort_values() method is handy for this.\n",
    "\n",
    "countries_reviewed = countries_reviewed.reset_index()\n",
    "countries_reviewed.sort_values(by='len')\n",
    "\n",
    ">>>> 425 rows × 3 columns and ordered by minimum length\n",
    "\n",
    "sort_values() defaults to an ascending sort, where the lowest values go first. However, most of the time we want a descending sort, where the higher numbers go first. That goes thusly:\n",
    "\n",
    "countries_reviewed.sort_values(by='len', ascending=False)\n",
    "\n",
    "To sort by index values, use the companion method sort_index(). This method has the same arguments and default order:\n",
    "\n",
    "countries_reviewed.sort_index()\n",
    "\n",
    "Finally, know that you can sort by more than one column at a time:\n",
    "\n",
    "countries_reviewed.sort_values(by=['country', 'len'])     ---> interesting, effectively sort by group only\n",
    "\n"
   ]
  },
  {
   "cell_type": "markdown",
   "metadata": {},
   "source": [
    "- FIVE: data-types-and-missing-values\n",
    "\n",
    "In this tutorial, you'll learn how to investigate data types within a DataFrame or Series. You'll also learn how to find and replace entries.\n",
    "\n",
    "Dtypes\n",
    "The data type for a column in a DataFrame or a Series is known as the dtype.\n",
    "\n",
    "You can use the dtype property to grab the type of a specific column. For instance, we can get the dtype of the price column in the reviews DataFrame:\n",
    "\n",
    "> reviews.price.dtype\n",
    "\n",
    "Alternatively, the dtypes property returns the dtype of every column in the DataFrame:\n",
    "\n",
    "> reviews.dtypes\n",
    "\n",
    "Data types tell us something about how pandas is storing the data internally. float64 means that it's using a 64-bit floating point number; int64 means a similarly sized integer instead, and so on.\n",
    "\n",
    "One peculiarity to keep in mind (and on display very clearly here) is that columns consisting entirely of strings do not get their own type; they are instead given the object type.\n",
    "\n",
    "It's possible to convert a column of one type into another wherever such a conversion makes sense by using the astype() function. For example, we may transform the points column from its existing int64 data type into a float64 data type:\n",
    "\n",
    "> reviews.points.astype('float64')\n",
    "\n",
    "A DataFrame or Series index has its own dtype, too:\n",
    "\n",
    "> reviews.index.dtype\n",
    "\n",
    "Pandas also supports more exotic data types, such as categorical data and timeseries data. Because these data types are more rarely used, we will omit them until a much later section of this tutorial.\n",
    "\n",
    "Missing data\n",
    "\n",
    "Entries missing values are given the value NaN, short for \"Not a Number\". For technical reasons these NaN values are always of the float64 dtype.\n",
    "\n",
    "Pandas provides some methods specific to missing data. To select NaN entries you can use pd.isnull() (or its companion pd.notnull()). This is meant to be used thusly:\n",
    "\n",
    "> reviews[pd.isnull(reviews.country)]\n",
    "63 rows × 13 columns\n",
    "\n",
    "Replacing missing values is a common operation. Pandas provides a really handy method for this problem: fillna(). fillna() provides a few different strategies for mitigating such data. For example, we can simply replace each NaN with an \"Unknown\":\n",
    "\n",
    "> reviews.region_2.fillna(\"Unknown\")\n",
    "\n",
    "Or we could fill each missing value with the first non-null value that appears sometime after the given record in the database. This is known as the backfill strategy.\n",
    "\n",
    "Alternatively, we may have a non-null value that we would like to replace. For example, suppose that since this dataset was published, reviewer Kerin O'Keefe has changed her Twitter handle from @kerinokeefe to @kerino. One way to reflect this in the dataset is using the replace() method:\n",
    "\n",
    "> reviews.taster_twitter_handle.replace(\"@kerinokeefe\", \"@kerino\")\n",
    "\n",
    "The replace() method is worth mentioning here because it's handy for replacing missing data which is given some kind of sentinel value in the dataset: things like \"Unknown\", \"Undisclosed\", \"Invalid\", and so on.\n"
   ]
  },
  {
   "cell_type": "markdown",
   "metadata": {},
   "source": [
    "- SIX: renaming-and-combining\n",
    "    \n",
    "Oftentimes data will come to us with column names, index names, or other naming conventions that we are not satisfied with. In that case, you'll learn how to use pandas functions to change the names of the offending entries to something better.\n",
    "\n",
    "You'll also explore how to combine data from multiple DataFrames and/or Series.\n",
    "\n",
    "Renaming\n",
    "\n",
    "The first function we'll introduce here is rename(), which lets you change index names and/or column names. For example, to change the points column in our dataset to score, we would do:\n",
    "\n",
    ">reviews.rename(columns={'points': 'score'})\n",
    "\n",
    "rename() lets you rename index or column values by specifying a index or column keyword parameter, respectively. It supports a variety of input formats, but usually a Python dictionary is the most convenient. Here is an example using it to rename some elements of the index.\n",
    "\n",
    "> reviews.rename(index={0: 'firstEntry', 1: 'secondEntry'})\n",
    "\n",
    "You'll probably rename columns very often, but rename index values very rarely. For that, set_index() is usually more convenient.\n",
    "\n",
    "Both the row index and the column index can have their own name attribute. The complimentary rename_axis() method may be used to change these names. For example:\n",
    "\n",
    "> reviews.rename_axis(\"wines\", axis='rows').rename_axis(\"fields\", axis='columns')\n",
    "\n",
    "Combining\n",
    "\n",
    "When performing operations on a dataset, we will sometimes need to combine different DataFrames and/or Series in non-trivial ways. Pandas has three core methods for doing this. In order of increasing complexity, these are concat(), join(), and merge(). Most of what merge() can do can also be done more simply with join(), so we will omit it and focus on the first two functions here.\n",
    "\n",
    "The simplest combining method is concat(). Given a list of elements, this function will smush those elements together along an axis.\n",
    "\n",
    "This is useful when we have data in different DataFrame or Series objects but having the same fields (columns). One example: the YouTube Videos dataset, which splits the data up based on country of origin (e.g. Canada and the UK, in this example). If we want to study multiple countries simultaneously, we can use concat() to smush them together:\n",
    "\n",
    "> canadian_youtube = pd.read_csv(\"../input/youtube-new/CAvideos.csv\")\n",
    "> british_youtube = pd.read_csv(\"../input/youtube-new/GBvideos.csv\")\n",
    "\n",
    "> pd.concat([canadian_youtube, british_youtube])\n",
    "\n",
    "The middlemost combiner in terms of complexity is join(). join() lets you combine different DataFrame objects which have an index in common. For example, to pull down videos that happened to be trending on the same day in both Canada and the UK, we could do the following:\n",
    "\n",
    "> left = canadian_youtube.set_index(['title', 'trending_date'])\n",
    "> right = british_youtube.set_index(['title', 'trending_date'])\n",
    "\n",
    "> left.join(right, lsuffix='_CAN', rsuffix='_UK')\n",
    "\n",
    "The lsuffix and rsuffix parameters are necessary here because the data has the same column names in both British and Canadian datasets. If this wasn't true (because, say, we'd renamed them beforehand) we wouldn't need them.\n"
   ]
  },
  {
   "cell_type": "code",
   "execution_count": null,
   "metadata": {},
   "outputs": [],
   "source": []
  }
 ],
 "metadata": {
  "kernelspec": {
   "display_name": "Python 3",
   "language": "python",
   "name": "python3"
  },
  "language_info": {
   "codemirror_mode": {
    "name": "ipython",
    "version": 3
   },
   "file_extension": ".py",
   "mimetype": "text/x-python",
   "name": "python",
   "nbconvert_exporter": "python",
   "pygments_lexer": "ipython3",
   "version": "3.7.6"
  }
 },
 "nbformat": 4,
 "nbformat_minor": 4
}
