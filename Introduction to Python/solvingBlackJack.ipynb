{
 "cells": [
  {
   "cell_type": "code",
   "execution_count": 138,
   "metadata": {},
   "outputs": [],
   "source": [
    "def blackjack_hand_greater_than(hand_1, hand_2):\n",
    "    \"\"\"\n",
    "    Return True if hand_1 beats hand_2, and False otherwise.\n",
    "    \n",
    "    In order for hand_1 to beat hand_2 the following must be true:\n",
    "    - The total of hand_1 must not exceed 21\n",
    "    - The total of hand_1 must exceed the total of hand_2 OR hand_2's total must exceed 21\n",
    "    \n",
    "    Hands are represented as a list of cards. Each card is represented by a string.\n",
    "    \n",
    "    When adding up a hand's total, cards with numbers count for that many points. Face\n",
    "    cards ('J', 'Q', and 'K') are worth 10 points. 'A' can count for 1 or 11.\n",
    "    \n",
    "    When determining a hand's total, you should try to count aces in the way that \n",
    "    maximizes the hand's total without going over 21. e.g. the total of ['A', 'A', '9'] is 21,\n",
    "    the total of ['A', 'A', '9', '3'] is 14.\n",
    "    \n",
    "    Examples:\n",
    "    >>> blackjack_hand_greater_than(['K'], ['3', '4'])\n",
    "    True\n",
    "    >>> blackjack_hand_greater_than(['K'], ['10'])\n",
    "    False\n",
    "    >>> blackjack_hand_greater_than(['K', 'K', '2'], ['3'])\n",
    "    False\n",
    "    \"\"\"\n",
    "    \n",
    "    #set up an amended hand_1 where subsituted face card values\n",
    "    hand_1a = []\n",
    "    hand_2a = []\n",
    "    acescounted_1 = []\n",
    "    acescounted_2 = []\n",
    "    ihand_1a = []\n",
    "    ihand_2a = []\n",
    "    hand1sum = []\n",
    "    hand2sum = []\n",
    "    \n",
    "    acescounted_1 = hand_1.count(\"A\")\n",
    "    acescounted_2 = hand_2.count(\"A\")\n",
    "    \n",
    "    hand1suma = 0\n",
    "           \n",
    "    \n",
    "    for i in hand_1:\n",
    "        \n",
    "        if i ==(\"K\" or \"Q\" or \"J\"):\n",
    "            hand_1a.append('10')\n",
    "        elif i ==(\"A\"):\n",
    "            hand_1a.append('0')\n",
    "        else:\n",
    "            hand_1a.append(i)\n",
    "    \n",
    "    for x in range(0, len(hand_1a)): \n",
    "        ihand_1a.append(int(hand_1a[x]))\n",
    "    \n",
    "    hand1sumexaces = sum(ihand_1a)\n",
    "    \n",
    "    if (hand1sumexaces <=10):\n",
    "        hand1sum = hand1sumexaces + (acescounted_1*11)\n",
    "    else:\n",
    "        hand1sum = hand1sumexaces + (acescounted_1*1)\n",
    "    \n",
    "    for i in hand_2:\n",
    "        \n",
    "        if i ==(\"K\" or \"Q\" or \"J\"):\n",
    "            hand_2a.append('10')\n",
    "        elif i ==(\"A\"):\n",
    "            hand_2a.append('0')\n",
    "        else:\n",
    "            hand_2a.append(i)\n",
    "    \n",
    "    for x in range(0, len(hand_2a)): \n",
    "        ihand_2a.append(int(hand_2a[x]))\n",
    "            \n",
    "    hand2sumexaces = sum(ihand_2a)\n",
    "\n",
    "    if (hand2sumexaces <=10):\n",
    "        hand2sum = hand2sumexaces + (acescounted_2*11)\n",
    "    else:\n",
    "        hand2sum = hand2sumexaces + (acescounted_2*1)  \n",
    "    \n",
    "    #set hand1sum to zero if goes over 21, so bust\n",
    "    \n",
    "    if hand1sum > 21:\n",
    "        hand1suma = 0\n",
    "    else:\n",
    "        hand1suma = hand1sum\n",
    "    \n",
    "    return hand1suma > hand2sum\n",
    "            \n",
    "    #print (\"Amended hand one where face cards have been replaced with value of 10 {}\".format(hand_1a))\n",
    "    #print (\"Amended hand two where face cards have been replaced with value of 10 {}\".format(hand_2a))\n",
    "    #print (\"Numbers of Aces in hand 1 is {}\".format(acescounted_1))\n",
    "    #print (\"Numbers of Aces in hand 2 is {}\".format(acescounted_2))\n",
    "    #print (\"Sum of hand one without accounting for aces is {}\".format(hand1sumexaces))\n",
    "    #print (\"Sum of hand one without accounting for aces is {}\".format(hand2sumexaces))\n",
    "    #print (\"Hand one sum is {}\".format(hand1sum))\n",
    "    #print (\"Hand two sum is {}\".format(hand2sum))\n",
    "    #print (\"Hand one is bigger {}\".format(bigger))\n",
    "    \n",
    "    #, hand_2a, acescounted_1, acescounted_2, hand1sumexaces, hand2sumexaces, hand1sum, hand2sum\n"
   ]
  },
  {
   "cell_type": "code",
   "execution_count": 139,
   "metadata": {},
   "outputs": [
    {
     "data": {
      "text/plain": [
       "False"
      ]
     },
     "execution_count": 139,
     "metadata": {},
     "output_type": "execute_result"
    }
   ],
   "source": [
    "blackjack_hand_greater_than(['5', '7', '6','K'], ['3','A'])"
   ]
  },
  {
   "cell_type": "code",
   "execution_count": null,
   "metadata": {},
   "outputs": [],
   "source": []
  },
  {
   "cell_type": "code",
   "execution_count": null,
   "metadata": {},
   "outputs": [],
   "source": []
  }
 ],
 "metadata": {
  "kernelspec": {
   "display_name": "Python 3",
   "language": "python",
   "name": "python3"
  },
  "language_info": {
   "codemirror_mode": {
    "name": "ipython",
    "version": 3
   },
   "file_extension": ".py",
   "mimetype": "text/x-python",
   "name": "python",
   "nbconvert_exporter": "python",
   "pygments_lexer": "ipython3",
   "version": "3.7.6"
  }
 },
 "nbformat": 4,
 "nbformat_minor": 4
}
